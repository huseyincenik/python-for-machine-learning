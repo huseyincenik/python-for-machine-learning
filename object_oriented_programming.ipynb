{
 "cells": [
  {
   "cell_type": "code",
   "execution_count": null,
   "metadata": {
    "colab": {
     "base_uri": "https://localhost:8080/"
    },
    "executionInfo": {
     "elapsed": 14,
     "status": "ok",
     "timestamp": 1649767371001,
     "user": {
      "displayName": "Ömer Cengiz",
      "userId": "06217286820064725608"
     },
     "user_tz": -180
    },
    "id": "lkIUs-KAspgW",
    "outputId": "3b175713-65d4-4e55-d5bd-ec2e86f09f9d"
   },
   "outputs": [
    {
     "data": {
      "text/plain": [
       "[1, 2, 3, 4, 5]"
      ]
     },
     "execution_count": 1,
     "metadata": {},
     "output_type": "execute_result"
    }
   ],
   "source": [
    "listed = [1, 2, 3, 4, 5]\n",
    "listed"
   ]
  },
  {
   "cell_type": "code",
   "execution_count": null,
   "metadata": {
    "id": "5IjUTxRZ_qzB"
   },
   "outputs": [],
   "source": [
    "text = \"Hello I am an object\""
   ]
  },
  {
   "cell_type": "code",
   "execution_count": null,
   "metadata": {
    "colab": {
     "base_uri": "https://localhost:8080/"
    },
    "executionInfo": {
     "elapsed": 265,
     "status": "ok",
     "timestamp": 1649888210194,
     "user": {
      "displayName": "Ömer Cengiz",
      "userId": "06217286820064725608"
     },
     "user_tz": -180
    },
    "id": "cyvEgRzf_5mY",
    "outputId": "83eeb57e-91cf-438d-9160-49f2ecd623a6"
   },
   "outputs": [
    {
     "name": "stdout",
     "output_type": "stream",
     "text": [
      "<class 'function'>\n"
     ]
    }
   ],
   "source": [
    "def summation(a, b):\n",
    "  return a + b\n",
    "\n",
    "print(type(summation))"
   ]
  },
  {
   "cell_type": "code",
   "execution_count": null,
   "metadata": {
    "id": "kN4jfelWCu9J"
   },
   "outputs": [],
   "source": [
    "class Person():\n",
    "  name = \"Joey\"\n",
    "  surname = \"Aniston\"\n",
    "  age = 23\n",
    "  gender = \"Male\""
   ]
  },
  {
   "cell_type": "code",
   "execution_count": null,
   "metadata": {
    "id": "Gor1txgLI1cX"
   },
   "outputs": [],
   "source": [
    "person = Person()"
   ]
  },
  {
   "cell_type": "code",
   "execution_count": null,
   "metadata": {
    "colab": {
     "base_uri": "https://localhost:8080/"
    },
    "executionInfo": {
     "elapsed": 289,
     "status": "ok",
     "timestamp": 1649774900848,
     "user": {
      "displayName": "Ömer Cengiz",
      "userId": "06217286820064725608"
     },
     "user_tz": -180
    },
    "id": "26fHbzZPJGtG",
    "outputId": "7e19107d-8940-4608-c11a-0c9d2c5cde70"
   },
   "outputs": [
    {
     "name": "stdout",
     "output_type": "stream",
     "text": [
      "Joey\n",
      "Aniston\n",
      "23\n",
      "Male\n"
     ]
    }
   ],
   "source": [
    "print(person.name)\n",
    "print(person.surname)\n",
    "print(person.age)\n",
    "print(person.gender)"
   ]
  },
  {
   "cell_type": "code",
   "execution_count": null,
   "metadata": {
    "id": "3jRexsAiQUso"
   },
   "outputs": [],
   "source": [
    "class Person():\n",
    "  def __init__(self, name, surname, age, gender):\n",
    "    self.name = name\n",
    "    self.surname = surname\n",
    "    self.age = age\n",
    "    self.gender = gender"
   ]
  },
  {
   "cell_type": "code",
   "execution_count": null,
   "metadata": {
    "id": "xeoLe74pQrnY"
   },
   "outputs": [],
   "source": [
    "person2 = Person(\"Joey\", \"Aniston\", 23, \"male\")"
   ]
  },
  {
   "cell_type": "code",
   "execution_count": null,
   "metadata": {
    "colab": {
     "base_uri": "https://localhost:8080/"
    },
    "executionInfo": {
     "elapsed": 268,
     "status": "ok",
     "timestamp": 1649776435120,
     "user": {
      "displayName": "Ömer Cengiz",
      "userId": "06217286820064725608"
     },
     "user_tz": -180
    },
    "id": "KxYHx--5ViCK",
    "outputId": "22f71b2a-3b6a-4bcd-c1e1-cc9d72f1d395"
   },
   "outputs": [
    {
     "name": "stdout",
     "output_type": "stream",
     "text": [
      "Joey\n",
      "Aniston\n",
      "23\n",
      "male\n"
     ]
    }
   ],
   "source": [
    "print(person2.name)\n",
    "print(person2.surname)\n",
    "print(person2.age)\n",
    "print(person2.gender)"
   ]
  },
  {
   "cell_type": "code",
   "execution_count": null,
   "metadata": {
    "colab": {
     "base_uri": "https://localhost:8080/"
    },
    "executionInfo": {
     "elapsed": 23,
     "status": "ok",
     "timestamp": 1649300605692,
     "user": {
      "displayName": "Ömer Cengiz",
      "userId": "06217286820064725608"
     },
     "user_tz": -180
    },
    "id": "KQNgOUeIeInL",
    "outputId": "d87ac91b-1e0d-42b6-d69d-0fec2edb4f4f"
   },
   "outputs": [
    {
     "data": {
      "text/plain": [
       "list"
      ]
     },
     "execution_count": 3,
     "metadata": {},
     "output_type": "execute_result"
    }
   ],
   "source": [
    "type(list1) # list1 is actually a list object. "
   ]
  },
  {
   "cell_type": "code",
   "execution_count": null,
   "metadata": {
    "colab": {
     "base_uri": "https://localhost:8080/"
    },
    "executionInfo": {
     "elapsed": 255,
     "status": "ok",
     "timestamp": 1649307262026,
     "user": {
      "displayName": "Ömer Cengiz",
      "userId": "06217286820064725608"
     },
     "user_tz": -180
    },
    "id": "0HW52SYGf3Hb",
    "outputId": "d5a55269-120a-4501-ccaa-5ad04a880404"
   },
   "outputs": [
    {
     "data": {
      "text/plain": [
       "function"
      ]
     },
     "execution_count": 61,
     "metadata": {},
     "output_type": "execute_result"
    }
   ],
   "source": [
    "def summation(a, b):\n",
    "  return a + b\n",
    "\n",
    "type(summation) # the function is also a object in programming world"
   ]
  },
  {
   "cell_type": "code",
   "execution_count": null,
   "metadata": {
    "id": "CDBT4J2t5ZLs"
   },
   "outputs": [],
   "source": [
    "class MyCompany():\n",
    "  company_name = \"Dark Blue\"\n",
    "  foundation_year = 2020\n",
    "  founder_name = \"John Doe\"\n",
    "  number_of_department = 5\n",
    "  sector = \"Healthcare\""
   ]
  },
  {
   "cell_type": "code",
   "execution_count": null,
   "metadata": {
    "id": "6hT6ciz47suo"
   },
   "outputs": [],
   "source": [
    "myObject = MyCompany()"
   ]
  },
  {
   "cell_type": "code",
   "execution_count": null,
   "metadata": {
    "colab": {
     "base_uri": "https://localhost:8080/"
    },
    "executionInfo": {
     "elapsed": 374,
     "status": "ok",
     "timestamp": 1650360742024,
     "user": {
      "displayName": "Ömer Cengiz",
      "userId": "06217286820064725608"
     },
     "user_tz": -180
    },
    "id": "LUFr0-UJI8kN",
    "outputId": "d5d5e032-ab86-4338-8427-8d42d9604dfc"
   },
   "outputs": [
    {
     "name": "stdout",
     "output_type": "stream",
     "text": [
      "Dark Blue\n",
      "2020\n",
      "John Doe\n",
      "5\n"
     ]
    }
   ],
   "source": [
    "print(myObject.company_name)\n",
    "print(myObject.foundation_year)\n",
    "print(myObject.founder_name)\n",
    "print(myObject.number_of_department)"
   ]
  },
  {
   "cell_type": "code",
   "execution_count": 1,
   "metadata": {
    "executionInfo": {
     "elapsed": 6,
     "status": "ok",
     "timestamp": 1650446467769,
     "user": {
      "displayName": "Ömer Cengiz",
      "userId": "06217286820064725608"
     },
     "user_tz": -180
    },
    "id": "UETx1IK4WP5x"
   },
   "outputs": [],
   "source": [
    "class MyCompany():\n",
    "  def __init__(self, company_name, foundation_year, founder_name, number_of_department, sector):\n",
    "    self.company_name = company_name\n",
    "    self.foundation_year = foundation_year\n",
    "    self.founder_name = founder_name\n",
    "    self.number_of_deparment = number_of_department\n",
    "    self.sector = sector"
   ]
  },
  {
   "cell_type": "code",
   "execution_count": null,
   "metadata": {
    "id": "K11V5qd9zNd_"
   },
   "outputs": [],
   "source": [
    "mycompany = MyCompany(\"Dark Blue\", 2020, \"John Doe\", 5, \"Healthcare\")\n",
    "print(mycompany.company_name)\n",
    "print(mycompany.foundation_year)\n",
    "print(mycompany.founder_name)\n",
    "print(mycompany.number_of_department)\n",
    "print(mycompany.sector)"
   ]
  },
  {
   "cell_type": "code",
   "execution_count": null,
   "metadata": {
    "id": "WoYZBlMHRW2U"
   },
   "outputs": [],
   "source": [
    "mycompany = MyCompany(\"Red White\", 2002, \"Michael Jackson \", 4, \"Banking\")\n",
    "print(mycompany.company_name)\n",
    "print(mycompany.foundation_year)\n",
    "print(mycompany.founder_name)\n",
    "print(mycompany.number_of_department)\n",
    "print(mycompany.sector)"
   ]
  },
  {
   "cell_type": "code",
   "execution_count": null,
   "metadata": {
    "colab": {
     "base_uri": "https://localhost:8080/"
    },
    "executionInfo": {
     "elapsed": 359,
     "status": "ok",
     "timestamp": 1649318013614,
     "user": {
      "displayName": "Ömer Cengiz",
      "userId": "06217286820064725608"
     },
     "user_tz": -180
    },
    "id": "6YXR3bLD7Kp4",
    "outputId": "4353b433-1003-4915-9c11-e0df94fe6719"
   },
   "outputs": [
    {
     "name": "stdout",
     "output_type": "stream",
     "text": [
      "Audi\n",
      "Green\n",
      "180\n",
      "4\n"
     ]
    }
   ],
   "source": [
    "print(car1.model)\n",
    "print(car1.color)\n",
    "print(car1.hp)\n",
    "print(car1.steamroller)"
   ]
  },
  {
   "cell_type": "code",
   "execution_count": null,
   "metadata": {
    "id": "KApT-s-3_wOt"
   },
   "outputs": [],
   "source": [
    "class Car():\n",
    "  brand = \"Mercedes\"\n",
    "  color = \"Blue\"\n",
    "  production_year = 2020\n",
    "  steamroller = 4"
   ]
  },
  {
   "cell_type": "code",
   "execution_count": null,
   "metadata": {
    "id": "wrPt1HYQlBq8"
   },
   "outputs": [],
   "source": [
    "class Car():\n",
    "  brand = \"Audi\"\n",
    "  color = \"Blue\"\n",
    "  production_year = 2020\n",
    "  steamroller = 4 "
   ]
  },
  {
   "cell_type": "code",
   "execution_count": null,
   "metadata": {
    "colab": {
     "base_uri": "https://localhost:8080/"
    },
    "executionInfo": {
     "elapsed": 272,
     "status": "ok",
     "timestamp": 1649307346684,
     "user": {
      "displayName": "Ömer Cengiz",
      "userId": "06217286820064725608"
     },
     "user_tz": -180
    },
    "id": "kVlOd-x4AJfl",
    "outputId": "59e87cf0-1b62-4cad-f29a-af797e02033e"
   },
   "outputs": [
    {
     "data": {
      "text/plain": [
       "['__class__',\n",
       " '__delattr__',\n",
       " '__dict__',\n",
       " '__dir__',\n",
       " '__doc__',\n",
       " '__eq__',\n",
       " '__format__',\n",
       " '__ge__',\n",
       " '__getattribute__',\n",
       " '__gt__',\n",
       " '__hash__',\n",
       " '__init__',\n",
       " '__init_subclass__',\n",
       " '__le__',\n",
       " '__lt__',\n",
       " '__module__',\n",
       " '__ne__',\n",
       " '__new__',\n",
       " '__reduce__',\n",
       " '__reduce_ex__',\n",
       " '__repr__',\n",
       " '__setattr__',\n",
       " '__sizeof__',\n",
       " '__str__',\n",
       " '__subclasshook__',\n",
       " '__weakref__',\n",
       " 'color',\n",
       " 'hp',\n",
       " 'model',\n",
       " 'steamroller']"
      ]
     },
     "execution_count": 67,
     "metadata": {},
     "output_type": "execute_result"
    }
   ],
   "source": [
    "dir(car1) "
   ]
  },
  {
   "cell_type": "code",
   "execution_count": null,
   "metadata": {
    "id": "0kU50Nl49yNR"
   },
   "outputs": [],
   "source": [
    "class Car():\n",
    "  def __init__(self):\n",
    "    print(\"the function is working...\")"
   ]
  },
  {
   "cell_type": "code",
   "execution_count": null,
   "metadata": {
    "colab": {
     "base_uri": "https://localhost:8080/"
    },
    "executionInfo": {
     "elapsed": 2,
     "status": "ok",
     "timestamp": 1649307356288,
     "user": {
      "displayName": "Ömer Cengiz",
      "userId": "06217286820064725608"
     },
     "user_tz": -180
    },
    "id": "yA3bp-I3NEqj",
    "outputId": "9e03669a-df44-417d-f2d2-03ff46181958"
   },
   "outputs": [
    {
     "name": "stdout",
     "output_type": "stream",
     "text": [
      "the function is working...\n"
     ]
    }
   ],
   "source": [
    "car3 = Car() # as you see, the function is working automatically"
   ]
  },
  {
   "cell_type": "code",
   "execution_count": null,
   "metadata": {
    "id": "jIHX52MDNOQ1"
   },
   "outputs": [],
   "source": [
    "class Car():\n",
    "  def __init__(self, brand, color, production_year, steamroller):\n",
    "    self.brand = brand\n",
    "    self.color = color\n",
    "    self.production_year = production_year\n",
    "    self.steamroller = steamroller "
   ]
  },
  {
   "cell_type": "code",
   "execution_count": null,
   "metadata": {
    "colab": {
     "base_uri": "https://localhost:8080/"
    },
    "executionInfo": {
     "elapsed": 248,
     "status": "ok",
     "timestamp": 1649307381366,
     "user": {
      "displayName": "Ömer Cengiz",
      "userId": "06217286820064725608"
     },
     "user_tz": -180
    },
    "id": "WLqqnbn5N8q7",
    "outputId": "ce0b8465-34d1-491e-ac50-cba0f09e7573"
   },
   "outputs": [
    {
     "name": "stdout",
     "output_type": "stream",
     "text": [
      "the function is working and the attributes has been created.\n"
     ]
    }
   ],
   "source": [
    "car1 = Car(\"Audi\", \"Green\", 180, 4)"
   ]
  },
  {
   "cell_type": "code",
   "execution_count": null,
   "metadata": {
    "colab": {
     "base_uri": "https://localhost:8080/"
    },
    "executionInfo": {
     "elapsed": 8,
     "status": "ok",
     "timestamp": 1649307383636,
     "user": {
      "displayName": "Ömer Cengiz",
      "userId": "06217286820064725608"
     },
     "user_tz": -180
    },
    "id": "SYPF2DgQOhPN",
    "outputId": "0108ea58-f6a9-41bb-8c8e-4a0d1da446c2"
   },
   "outputs": [
    {
     "name": "stdout",
     "output_type": "stream",
     "text": [
      "Audi\n",
      "Green\n",
      "180\n",
      "4\n"
     ]
    }
   ],
   "source": [
    "print(car1.model)\n",
    "print(car1.color)\n",
    "print(car1.hp)\n",
    "print(car1.steamroller)"
   ]
  },
  {
   "cell_type": "code",
   "execution_count": null,
   "metadata": {
    "colab": {
     "base_uri": "https://localhost:8080/"
    },
    "executionInfo": {
     "elapsed": 15,
     "status": "ok",
     "timestamp": 1649300605697,
     "user": {
      "displayName": "Ömer Cengiz",
      "userId": "06217286820064725608"
     },
     "user_tz": -180
    },
    "id": "RAEYV0RvOo7o",
    "outputId": "b9867df4-8cb7-4a94-d865-a5bb9f5ddead"
   },
   "outputs": [
    {
     "name": "stdout",
     "output_type": "stream",
     "text": [
      "the function is working and the attributes has been created.\n"
     ]
    }
   ],
   "source": [
    "car2 = Car(\"Opel\", \"Red\", 120, 4)"
   ]
  },
  {
   "cell_type": "code",
   "execution_count": null,
   "metadata": {
    "colab": {
     "base_uri": "https://localhost:8080/"
    },
    "executionInfo": {
     "elapsed": 15,
     "status": "ok",
     "timestamp": 1649300605698,
     "user": {
      "displayName": "Ömer Cengiz",
      "userId": "06217286820064725608"
     },
     "user_tz": -180
    },
    "id": "kKvDkkpbOw40",
    "outputId": "ff88c8e8-34c6-4f0f-cb55-4110a4a66fbf"
   },
   "outputs": [
    {
     "name": "stdout",
     "output_type": "stream",
     "text": [
      "Opel\n",
      "Red\n",
      "120\n",
      "4\n"
     ]
    }
   ],
   "source": [
    "print(car2.model)\n",
    "print(car2.color)\n",
    "print(car2.hp)\n",
    "print(car2.steamroller)"
   ]
  },
  {
   "cell_type": "markdown",
   "metadata": {
    "id": "7lgb4s5X-0Zg"
   },
   "source": [
    "# Methods\n",
    "\n",
    "We want to create the properties that this class has."
   ]
  },
  {
   "cell_type": "code",
   "execution_count": null,
   "metadata": {
    "id": "Myajw6_h-qpF"
   },
   "outputs": [],
   "source": [
    "class Employee():\n",
    "  def __init__(self, name, surname, age, salary, title):\n",
    "    self.name = name\n",
    "    self.surname = surname\n",
    "    self.age = age\n",
    "    self.salary = salary\n",
    "    self.title = title\n",
    "  \n",
    "  def get_information(self):\n",
    "    print(\"\"\"\n",
    "    Name: {}\n",
    "    Surname: {}\n",
    "    Age: {}\n",
    "    Salary: {}\n",
    "    Title: {}\n",
    "    \"\"\".format(self.name, self.surname, self.age, self.salary, self.title))\n",
    "  \n",
    "  def change_title(self, title):\n",
    "    self.title = title\n",
    "    print(\"The new title is {}\".format(self.title))\n",
    "\n",
    "  def increase_salary(self, increase_rate):\n",
    "    self.salary += self.salary * increase_rate\n",
    "    print(\"The new salary is {}\".format(self.salary))"
   ]
  },
  {
   "cell_type": "code",
   "execution_count": null,
   "metadata": {
    "colab": {
     "base_uri": "https://localhost:8080/"
    },
    "executionInfo": {
     "elapsed": 8,
     "status": "ok",
     "timestamp": 1649307403844,
     "user": {
      "displayName": "Ömer Cengiz",
      "userId": "06217286820064725608"
     },
     "user_tz": -180
    },
    "id": "CTrtZpYG_qSN",
    "outputId": "b05e5dde-550d-45db-c423-16204e932a95"
   },
   "outputs": [
    {
     "name": "stdout",
     "output_type": "stream",
     "text": [
      "\n",
      "    Name: John\n",
      "    Surname: Doe\n",
      "    Age: 27\n",
      "    Salary: 3000\n",
      "    Title: Finance Spealist\n",
      "    \n"
     ]
    }
   ],
   "source": [
    "employee = Employee('John', 'Doe', 27, 3000, 'Finance Spealist')\n",
    "employee.get_information()"
   ]
  },
  {
   "cell_type": "code",
   "execution_count": null,
   "metadata": {
    "colab": {
     "base_uri": "https://localhost:8080/"
    },
    "executionInfo": {
     "elapsed": 3,
     "status": "ok",
     "timestamp": 1649307431237,
     "user": {
      "displayName": "Ömer Cengiz",
      "userId": "06217286820064725608"
     },
     "user_tz": -180
    },
    "id": "rAnUCrdhD8t7",
    "outputId": "c6669364-1853-47e2-bb9e-da8d224bf021"
   },
   "outputs": [
    {
     "name": "stdout",
     "output_type": "stream",
     "text": [
      "The new title is Finance Expert\n",
      "The new salary is 4200.0\n",
      "\n",
      "    Name: John\n",
      "    Surname: Doe\n",
      "    Age: 27\n",
      "    Salary: 4200.0\n",
      "    Title: Finance Expert\n",
      "    \n"
     ]
    }
   ],
   "source": [
    "employee.change_title('Finance Expert')\n",
    "employee.increase_salary(0.4)\n",
    "employee.get_information()"
   ]
  },
  {
   "cell_type": "markdown",
   "metadata": {
    "id": "pZ8aSnzVFBQ5"
   },
   "source": [
    "# Inheritance"
   ]
  },
  {
   "cell_type": "code",
   "execution_count": null,
   "metadata": {
    "id": "l2z5WJ2CFDgv"
   },
   "outputs": [],
   "source": [
    "class Manager(Employee):\n",
    "  pass"
   ]
  },
  {
   "cell_type": "code",
   "execution_count": null,
   "metadata": {
    "colab": {
     "base_uri": "https://localhost:8080/"
    },
    "executionInfo": {
     "elapsed": 8,
     "status": "ok",
     "timestamp": 1649307458425,
     "user": {
      "displayName": "Ömer Cengiz",
      "userId": "06217286820064725608"
     },
     "user_tz": -180
    },
    "id": "B62mqRehK7ny",
    "outputId": "1f53318a-b218-4d1a-e33e-f41313447663"
   },
   "outputs": [
    {
     "name": "stdout",
     "output_type": "stream",
     "text": [
      "\n",
      "    Name: Jack\n",
      "    Surname: Denver\n",
      "    Age: 34\n",
      "    Salary: 5000\n",
      "    Title: CEO\n",
      "    \n"
     ]
    }
   ],
   "source": [
    "manager = Manager(\"Jack\",\"Denver\", 34, 5000, 'CEO')\n",
    "manager.get_information()"
   ]
  },
  {
   "cell_type": "code",
   "execution_count": null,
   "metadata": {
    "colab": {
     "base_uri": "https://localhost:8080/"
    },
    "executionInfo": {
     "elapsed": 277,
     "status": "ok",
     "timestamp": 1649307465260,
     "user": {
      "displayName": "Ömer Cengiz",
      "userId": "06217286820064725608"
     },
     "user_tz": -180
    },
    "id": "dPIOV9UcLevI",
    "outputId": "1889cfc7-b1b7-4359-8243-522928025de5"
   },
   "outputs": [
    {
     "data": {
      "text/plain": [
       "['__class__',\n",
       " '__delattr__',\n",
       " '__dict__',\n",
       " '__dir__',\n",
       " '__doc__',\n",
       " '__eq__',\n",
       " '__format__',\n",
       " '__ge__',\n",
       " '__getattribute__',\n",
       " '__gt__',\n",
       " '__hash__',\n",
       " '__init__',\n",
       " '__init_subclass__',\n",
       " '__le__',\n",
       " '__lt__',\n",
       " '__module__',\n",
       " '__ne__',\n",
       " '__new__',\n",
       " '__reduce__',\n",
       " '__reduce_ex__',\n",
       " '__repr__',\n",
       " '__setattr__',\n",
       " '__sizeof__',\n",
       " '__str__',\n",
       " '__subclasshook__',\n",
       " '__weakref__',\n",
       " 'age',\n",
       " 'change_title',\n",
       " 'get_information',\n",
       " 'increase_salary',\n",
       " 'name',\n",
       " 'salary',\n",
       " 'surname',\n",
       " 'title']"
      ]
     },
     "execution_count": 82,
     "metadata": {},
     "output_type": "execute_result"
    }
   ],
   "source": [
    "dir(manager)"
   ]
  },
  {
   "cell_type": "code",
   "execution_count": null,
   "metadata": {
    "id": "4aCAxlhaLi2t"
   },
   "outputs": [],
   "source": [
    "class Manager(Employee):\n",
    "  def increase_salary_for_manager(self, ratio):\n",
    "    self.salary += self.salary * ratio"
   ]
  },
  {
   "cell_type": "code",
   "execution_count": null,
   "metadata": {
    "colab": {
     "base_uri": "https://localhost:8080/"
    },
    "executionInfo": {
     "elapsed": 5,
     "status": "ok",
     "timestamp": 1649304821183,
     "user": {
      "displayName": "Ömer Cengiz",
      "userId": "06217286820064725608"
     },
     "user_tz": -180
    },
    "id": "IKPwvRiNMsak",
    "outputId": "162dea89-1421-4082-a3b5-1d51c818b8aa"
   },
   "outputs": [
    {
     "name": "stdout",
     "output_type": "stream",
     "text": [
      "\n",
      "    Name: Sacha\n",
      "    Surname: Kearney\n",
      "    Age: 34\n",
      "    Salary: 9100.0\n",
      "    Languages: ['English', 'Spanish', 'Portuguese']\n",
      "    Title: Finance Team Lead\n",
      "    \n"
     ]
    }
   ],
   "source": [
    "manager = Manager(\"Sacha\", \"Kearney\", 34, 7000, \"Finance Team Lead\")\n",
    "manager.increase_salary_for_manager(0.3)\n",
    "manager.get_information()"
   ]
  },
  {
   "cell_type": "code",
   "execution_count": null,
   "metadata": {
    "id": "I3q_x6nKPDU7"
   },
   "outputs": [],
   "source": [
    "class Manager(Employee):\n",
    "  def __init__(self, name, surname, age, title, salary, languages):\n",
    "    self.name = name \n",
    "    self.surname = surname\n",
    "    self.age = age\n",
    "    self.title = title\n",
    "    self.salary = salary\n",
    "    self.languages = languages"
   ]
  },
  {
   "cell_type": "code",
   "execution_count": null,
   "metadata": {
    "id": "lrFMhuXMQ2ow"
   },
   "outputs": [],
   "source": [
    "class Manager(Employee):\n",
    "  def __init__(self, name, surname, age, title, salary, languages):\n",
    "    self.name = name \n",
    "    self.surname = surname\n",
    "    self.age = age\n",
    "    self.title = title\n",
    "    self.salary = salary\n",
    "    self.languages = languages\n",
    "\n",
    "  def get_information(self):\n",
    "    print(\"\"\"\n",
    "    Name: {}\n",
    "    Surname: {}\n",
    "    Age: {}\n",
    "    Salary: {}\n",
    "    Title: {}\n",
    "    Languages: {}\n",
    "    \"\"\".format(self.name, self.surname, self.age, self.salary, self.title, self.languages))"
   ]
  },
  {
   "cell_type": "code",
   "execution_count": null,
   "metadata": {
    "colab": {
     "base_uri": "https://localhost:8080/",
     "height": 182
    },
    "executionInfo": {
     "elapsed": 253,
     "status": "error",
     "timestamp": 1649305710965,
     "user": {
      "displayName": "Ömer Cengiz",
      "userId": "06217286820064725608"
     },
     "user_tz": -180
    },
    "id": "bDoz5LlORCP-",
    "outputId": "362784a4-0af7-48db-a920-c68d648c761c"
   },
   "outputs": [
    {
     "ename": "TypeError",
     "evalue": "ignored",
     "output_type": "error",
     "traceback": [
      "\u001b[0;31m---------------------------------------------------------------------------\u001b[0m",
      "\u001b[0;31mTypeError\u001b[0m                                 Traceback (most recent call last)",
      "\u001b[0;32m<ipython-input-52-149ac87492dd>\u001b[0m in \u001b[0;36m<module>\u001b[0;34m()\u001b[0m\n\u001b[0;32m----> 1\u001b[0;31m \u001b[0mmanager\u001b[0m \u001b[0;34m=\u001b[0m \u001b[0mManager\u001b[0m\u001b[0;34m(\u001b[0m\u001b[0;34m\"Sacha\"\u001b[0m\u001b[0;34m,\u001b[0m \u001b[0;34m\"Kearney\"\u001b[0m\u001b[0;34m,\u001b[0m \u001b[0;36m34\u001b[0m\u001b[0;34m,\u001b[0m \u001b[0;36m7000\u001b[0m\u001b[0;34m,\u001b[0m \u001b[0;34m\"Finance Team Lead\"\u001b[0m\u001b[0;34m)\u001b[0m\u001b[0;34m\u001b[0m\u001b[0;34m\u001b[0m\u001b[0m\n\u001b[0m\u001b[1;32m      2\u001b[0m \u001b[0mmanager\u001b[0m\u001b[0;34m.\u001b[0m\u001b[0mget_information\u001b[0m\u001b[0;34m(\u001b[0m\u001b[0;34m)\u001b[0m\u001b[0;34m\u001b[0m\u001b[0;34m\u001b[0m\u001b[0m\n",
      "\u001b[0;31mTypeError\u001b[0m: __init__() missing 1 required positional argument: 'languages'"
     ]
    }
   ],
   "source": [
    "manager = Manager(\"Sacha\", \"Kearney\", 34, 7000, \"Finance Team Lead\")\n",
    "manager.get_information()"
   ]
  },
  {
   "cell_type": "code",
   "execution_count": null,
   "metadata": {
    "colab": {
     "base_uri": "https://localhost:8080/"
    },
    "executionInfo": {
     "elapsed": 267,
     "status": "ok",
     "timestamp": 1649305874695,
     "user": {
      "displayName": "Ömer Cengiz",
      "userId": "06217286820064725608"
     },
     "user_tz": -180
    },
    "id": "k09e6jHWRfMo",
    "outputId": "ef5041a6-4917-471c-981a-c7d4b0739597"
   },
   "outputs": [
    {
     "name": "stdout",
     "output_type": "stream",
     "text": [
      "\n",
      "    Name: Sacha\n",
      "    Surname: Kearney\n",
      "    Age: 34\n",
      "    Salary: Finance Team Lead\n",
      "    Title: 7000\n",
      "    Languages: ['English', 'Portuguese', 'Spanish']\n",
      "    \n"
     ]
    }
   ],
   "source": [
    "manager = Manager(\"Sacha\", \"Kearney\", 34, 7000, \"Finance Team Lead\", ['English','Portuguese', 'Spanish'])\n",
    "manager.get_information()"
   ]
  },
  {
   "cell_type": "markdown",
   "metadata": {
    "id": "OmfrxgP7S0NQ"
   },
   "source": [
    "# \"Super\""
   ]
  },
  {
   "cell_type": "code",
   "execution_count": null,
   "metadata": {
    "id": "1MNtmo5mTe_S"
   },
   "outputs": [],
   "source": [
    "class Employee():\n",
    "  def __init__(self, name, surname, age, salary, title):\n",
    "    self.name = name\n",
    "    self.surname = surname\n",
    "    self.age = age\n",
    "    self.salary = salary\n",
    "    self.title = title"
   ]
  },
  {
   "cell_type": "code",
   "execution_count": null,
   "metadata": {
    "id": "Je3YBg2FTFoY"
   },
   "outputs": [],
   "source": [
    "class Manager(Employee):\n",
    "  def __init__(self, name, surname, age, title, salary, languages):\n",
    "    self.name = name \n",
    "    self.surname = surname\n",
    "    self.age = age\n",
    "    self.title = title\n",
    "    self.salary = salary\n",
    "    self.languages = languages"
   ]
  },
  {
   "cell_type": "code",
   "execution_count": null,
   "metadata": {
    "id": "adHW0mTTT5el"
   },
   "outputs": [],
   "source": [
    "class Manager(Employee):\n",
    "  def __init__(self, name, surname, age, title, salary, languages):\n",
    "    super().__init__(name, surname, age, title, salary)\n",
    "    self.languages = languages"
   ]
  },
  {
   "cell_type": "code",
   "execution_count": null,
   "metadata": {
    "colab": {
     "base_uri": "https://localhost:8080/"
    },
    "executionInfo": {
     "elapsed": 288,
     "status": "ok",
     "timestamp": 1649306404206,
     "user": {
      "displayName": "Ömer Cengiz",
      "userId": "06217286820064725608"
     },
     "user_tz": -180
    },
    "id": "SD7CC_DZUQyW",
    "outputId": "03c80234-6491-4c5c-df58-9d811a7e8421"
   },
   "outputs": [
    {
     "name": "stdout",
     "output_type": "stream",
     "text": [
      "\n",
      "    Name: Sacha\n",
      "    Surname: Kearney\n",
      "    Age: 34\n",
      "    Salary: Finance Team Lead\n",
      "    Title: 7000\n",
      "    Languages: ['English', 'Portuguese', 'Spanish']\n",
      "    \n"
     ]
    }
   ],
   "source": [
    "manager = Manager(\"Sacha\", \"Kearney\", 34, 7000, \"Finance Team Lead\", ['English','Portuguese', 'Spanish'])\n",
    "manager.get_information()"
   ]
  },
  {
   "cell_type": "markdown",
   "metadata": {
    "id": "gcYY3Z1GXbHi"
   },
   "source": [
    "# Special Methods\n",
    "Special methods are a set of predefined methods in Python that you can use to enhance your classes. Because they begin and conclude with double underscores, such as __init__ or __str__, they are easily identifiable.\n",
    "\n",
    "Pythoneer used the term \"dunder methods\" as a short form of \"double under,\" as saying under-under-method-under-under grew monotonous.\n",
    "\n",
    "\n",
    "\n",
    "In Python, these \"dunders\" or \"special methods\" are sometimes known as \"magic methods.\" However, adopting this phrase can make things appear more sophisticated than they are—at the end of the day, they aren't \"magical.\" These methods should be treated as if they were a standard language feature.\n",
    "\n",
    "What kind of special methods we have? For Example;\n",
    "* __init__\n",
    "* __str__\n",
    "* __len__"
   ]
  },
  {
   "cell_type": "code",
   "execution_count": null,
   "metadata": {
    "id": "44hajdxAXfI4"
   },
   "outputs": [],
   "source": [
    "class Animal():\n",
    "  def __init__(self, name, age, number_of_feet):\n",
    "    self.name = name\n",
    "    self.age = age\n",
    "    self.number_of_feet = number_of_feet\n",
    "\n",
    "  def __str__(self):\n",
    "    return \"Name: {}\\nAge: {}\\nNumber of Feet: {}\".format(self.name, self.age, self.number_of_feet)\n",
    "\n",
    "  def __len__(self):\n",
    "    return len(self.name)"
   ]
  },
  {
   "cell_type": "code",
   "execution_count": null,
   "metadata": {
    "colab": {
     "base_uri": "https://localhost:8080/"
    },
    "executionInfo": {
     "elapsed": 252,
     "status": "ok",
     "timestamp": 1649310155512,
     "user": {
      "displayName": "Ömer Cengiz",
      "userId": "06217286820064725608"
     },
     "user_tz": -180
    },
    "id": "d9ipIRXjckxn",
    "outputId": "683bf709-5e2f-4c41-90ab-2ce369067a1a"
   },
   "outputs": [
    {
     "name": "stdout",
     "output_type": "stream",
     "text": [
      "Name: Lion\n",
      "Age: 4\n",
      "Number of Feet: 4\n"
     ]
    }
   ],
   "source": [
    "lion = Animal('Lion', 4, 4)\n",
    "print(lion)"
   ]
  },
  {
   "cell_type": "code",
   "execution_count": null,
   "metadata": {
    "colab": {
     "base_uri": "https://localhost:8080/"
    },
    "executionInfo": {
     "elapsed": 3,
     "status": "ok",
     "timestamp": 1649310156278,
     "user": {
      "displayName": "Ömer Cengiz",
      "userId": "06217286820064725608"
     },
     "user_tz": -180
    },
    "id": "49nghuluhCj1",
    "outputId": "94107565-ad1a-439f-cf8e-35c636b1232c"
   },
   "outputs": [
    {
     "data": {
      "text/plain": [
       "4"
      ]
     },
     "execution_count": 196,
     "metadata": {},
     "output_type": "execute_result"
    }
   ],
   "source": [
    "len(lion)"
   ]
  },
  {
   "cell_type": "code",
   "execution_count": null,
   "metadata": {
    "id": "Bi1z83UyIqSn"
   },
   "outputs": [],
   "source": [
    "listed = [1, 2, 3, 4, 5]\n"
   ]
  },
  {
   "cell_type": "code",
   "execution_count": null,
   "metadata": {
    "id": "M5nffwLLM2a7"
   },
   "outputs": [],
   "source": [
    "str"
   ]
  },
  {
   "cell_type": "markdown",
   "metadata": {},
   "source": [
    "Examples"
   ]
  },
  {
   "cell_type": "code",
   "execution_count": 1,
   "metadata": {},
   "outputs": [],
   "source": [
    "class Employee():\n",
    "    employee_name = \"Ben\"\n",
    "    department = \"sales\"\n",
    "    starting_year = 2020\n",
    "    salary = 5000\n",
    "    "
   ]
  },
  {
   "cell_type": "code",
   "execution_count": 2,
   "metadata": {},
   "outputs": [],
   "source": [
    "myObject = Employee()"
   ]
  },
  {
   "cell_type": "code",
   "execution_count": 3,
   "metadata": {},
   "outputs": [
    {
     "name": "stdout",
     "output_type": "stream",
     "text": [
      "Ben\n",
      "sales\n",
      "2020\n",
      "5000\n"
     ]
    }
   ],
   "source": [
    "print(myObject.employee_name)\n",
    "print(myObject.department)\n",
    "print(myObject.starting_year)\n",
    "print(myObject.salary)"
   ]
  },
  {
   "cell_type": "code",
   "execution_count": 5,
   "metadata": {},
   "outputs": [],
   "source": [
    "class Employee():\n",
    "    def __init__(self, employee_name , department, starting_year, salary):\n",
    "        self.employee_name = employee_name\n",
    "        self.department = department\n",
    "        self.starting_year = starting_year\n",
    "        self.salary = salary"
   ]
  },
  {
   "cell_type": "code",
   "execution_count": 6,
   "metadata": {},
   "outputs": [],
   "source": [
    "employee_1 = Employee(\"Ben\", \"sales\", \"2020\", \"5000\")"
   ]
  },
  {
   "cell_type": "code",
   "execution_count": 7,
   "metadata": {},
   "outputs": [
    {
     "name": "stdout",
     "output_type": "stream",
     "text": [
      "Ben\n",
      "sales\n",
      "2020\n",
      "5000\n"
     ]
    }
   ],
   "source": [
    "print(employee_1.employee_name)\n",
    "print(employee_1.department)\n",
    "print(employee_1.starting_year)\n",
    "print(employee_1.salary)"
   ]
  },
  {
   "cell_type": "code",
   "execution_count": null,
   "metadata": {},
   "outputs": [],
   "source": []
  }
 ],
 "metadata": {
  "colab": {
   "authorship_tag": "ABX9TyPg/LmLVeAN8TN/QAa1CR17",
   "collapsed_sections": [],
   "name": "OOP.ipynb",
   "provenance": []
  },
  "kernelspec": {
   "display_name": "Python 3 (ipykernel)",
   "language": "python",
   "name": "python3"
  },
  "language_info": {
   "codemirror_mode": {
    "name": "ipython",
    "version": 3
   },
   "file_extension": ".py",
   "mimetype": "text/x-python",
   "name": "python",
   "nbconvert_exporter": "python",
   "pygments_lexer": "ipython3",
   "version": "3.10.9"
  }
 },
 "nbformat": 4,
 "nbformat_minor": 1
}
