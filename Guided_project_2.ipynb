{
 "cells": [
  {
   "cell_type": "markdown",
   "metadata": {
    "id": "L2QxMyW_Qs36"
   },
   "source": [
    "#Chapter 2\n",
    "##Object-oriented programming\n",
    "\n",
    "Your department receives a request to prepare a test software to digitalize the health insurance, logistics, and trading companies that can be expanded in the future.\n",
    "\n",
    "You come up with an idea: object-oriented programming. Your approach is to create classes for each company that will have different attributes and methods to digitalize some of their functions.   \n"
   ]
  },
  {
   "cell_type": "markdown",
   "metadata": {
    "id": "wNu3jDRBTbcE"
   },
   "source": [
    "### Health insurance\n",
    "#### Define the class\n",
    "You start with the health insurance company. \n",
    "\n",
    "You need to create a system for the supplemental health insurance registration process by taking different variables like age, chronic disease, and income into account. \n",
    "\n",
    "📌 Use the keyword \"class\" to create the class \"HealthInsurance\" \n",
    "\n",
    "📌 Use the \"__init__\" method to initialze the object's attributes: self, company_name, foundation_year, founder_name,  company_slogan, num_of_employees and num_of_clients.\n"
   ]
  },
  {
   "cell_type": "markdown",
   "metadata": {
    "id": "jEV9hh49JxGt"
   },
   "source": [
    "#### Define the methods\n",
    "\n",
    "Next, define the methods of the class:\n",
    "\n",
    "1. print_report method: A method to print out information about the company. \n",
    "\n",
    "  📌 The report should have this structure: \n",
    "\n",
    "  \"The company *name*, was founded in *year*. The founder of the company is *founder_name*. \n",
    "\n",
    "  Company slogan: *company_slogan*\n",
    "\n",
    "  Number of employees: *number of employees*\n",
    "\n",
    "  Number of clients: *number of clients*\"\n",
    "\n",
    "2. sup_health_insurance method: A method to check the eligibility for supplemental health insurance. It should consider the parameters \"age\", \"chronic_disease\", and \"income\".\n",
    "\n",
    "  📌 Use if-else statements and logical operators.\n",
    "\n",
    "3. update_num_clients method: A method to update the attribute number of clients."
   ]
  },
  {
   "cell_type": "code",
   "execution_count": 16,
   "metadata": {
    "id": "jXBwGqV2OkvB"
   },
   "outputs": [],
   "source": [
    "#Define the \"HealthInsurance\" class\n",
    "class HealthInsurance:\n",
    "    #Initialize the object's attributes\n",
    "    def __init__(self, company_name, foundation_year, founder_name, company_slogan, num_of_employees, num_of_clients):\n",
    "        self.company_name = company_name\n",
    "        self.foundation_year = foundation_year\n",
    "        self.founder_name = founder_name\n",
    "        self.company_slogan = company_slogan\n",
    "        self.num_of_employees = num_of_employees\n",
    "        self.num_of_clients = num_of_clients\n",
    "\n",
    "\n",
    "    #Define the print_report method\n",
    "    def print_report(self):\n",
    "        print(f\"\"\"The company{self.company_name} was founded in {self.foundation_year}.\n",
    "        The founder of the company is {self.founder_name}.\n",
    "        Company slogan : {self.company_slogan}.\n",
    "        Number of employees : {self.num_of_employees}\n",
    "        Number of clients : {self.num_of_clients}\"\"\")\n",
    "\n",
    "    #Define the sup_health_insurance method\n",
    "    def sup_health_insurance(self, age, chronic_disease, income):\n",
    "      #if-else statements to check whether person can get supplemental insurance or not\n",
    "        \n",
    "        if age >= 60 and chronic_disease == True and income < 6000:\n",
    "            print(\"We are sorry ! You are not eligible for supplemental health insurance .\")\n",
    "        elif age < 60 and income >= 6000 or chronic_disease == False:\n",
    "            print(\"Congratulations ! You can get supplemental health insurance . \")\n",
    "\n",
    "    #Define the update_num_clients method\n",
    "    def update_num_clients(self, new_number):\n",
    "        self.num_of_clients = new_number\n",
    "        print(f\"Number of clients has been changed to {self.num_of_clients}!\")\n",
    "    \n"
   ]
  },
  {
   "cell_type": "markdown",
   "metadata": {
    "id": "4uxjmN3vGCFJ"
   },
   "source": [
    "#### Create the object \n",
    "Now that we created our class and initialized its attributes and methods, we can create the object “HI_company1” with the attributes: \n",
    "\n",
    "* Company_name “Healthy”\n",
    "\n",
    "* foundation_year “2012”\n",
    "\n",
    "* founder_name “Bob Mayer”\n",
    "\n",
    "* company_slogan “We care for you.” \n",
    "\n",
    "* num_of_employees “3500”\n",
    "\n",
    "* num_of_clients “13230”\n"
   ]
  },
  {
   "cell_type": "code",
   "execution_count": 17,
   "metadata": {
    "id": "MBeiD4dlatPD"
   },
   "outputs": [],
   "source": [
    "#Create the object \"HI_company1\" with it's attributes\n",
    "HI_company1 = HealthInsurance('Healty', 2012, 'Bob Mayer', 'We care for you', 3500,13230 )"
   ]
  },
  {
   "cell_type": "markdown",
   "metadata": {
    "id": "V0larkhtGNjQ"
   },
   "source": [
    "#### Let’s check if the methods work.\n",
    "\n",
    "There is a new customer that wants to register for supplemental health insurance. He is 45 years old, does not have a chronic disease, and has an income of 5000 dollars per month.\n",
    "\n",
    "📌 Use the sup_health_insurance method with this information. "
   ]
  },
  {
   "cell_type": "code",
   "execution_count": 18,
   "metadata": {
    "id": "T9SibjcjwP1b"
   },
   "outputs": [
    {
     "name": "stdout",
     "output_type": "stream",
     "text": [
      "Congratulations ! You can get supplemental health insurance . \n"
     ]
    }
   ],
   "source": [
    "#Use the sup_health_insurance for the new customer\n",
    "HI_company1.sup_health_insurance(45, False, 5000)"
   ]
  },
  {
   "cell_type": "markdown",
   "metadata": {
    "id": "FiFb7hhnCSql"
   },
   "source": [
    "Because the number of clients has increased, you should use the update_num_clients method. \n",
    "\n",
    "📌 The new_number will be 13231."
   ]
  },
  {
   "cell_type": "code",
   "execution_count": 19,
   "metadata": {
    "id": "FMto8ZjLa5rC"
   },
   "outputs": [
    {
     "name": "stdout",
     "output_type": "stream",
     "text": [
      "Number of clients has been changed to 13231!\n"
     ]
    }
   ],
   "source": [
    "#Update the number of clients\n",
    "HI_company1.update_num_clients(13231)"
   ]
  },
  {
   "cell_type": "markdown",
   "metadata": {
    "id": "4AcSJLsoH7kq"
   },
   "source": [
    "To see the output of the latest update and check whether it worked or not, call the print_report method."
   ]
  },
  {
   "cell_type": "code",
   "execution_count": 20,
   "metadata": {
    "id": "IrSkauee4Qkt"
   },
   "outputs": [
    {
     "name": "stdout",
     "output_type": "stream",
     "text": [
      "The companyHealty was founded in 2012.\n",
      "        The founder of the company is Bob Mayer.\n",
      "        Company slogan : We care for you.\n",
      "        Number of employees : 3500\n",
      "        Number of clients : 13231\n"
     ]
    }
   ],
   "source": [
    "#Call the print_report method for HI_company1\n",
    "HI_company1.print_report()"
   ]
  },
  {
   "cell_type": "markdown",
   "metadata": {
    "id": "EX3NFIF-baj3"
   },
   "source": [
    "### Logistic\n",
    "Let's continue with the next company from your brief.\n",
    "\n",
    "Storage plays a crucial part in logistics, and the company wants to track the status of inventory space with software and be able to make changes in the system whenever it is needed.\n",
    "\n",
    "Again, you need to create a class.\n",
    "\n",
    "📌 Use the keyword \"class\" to create the class \"Logistics\" \n",
    "\n",
    "📌 Use the \"__init__\" method to initialze the object's attributes: self, company_name, foundation_year, founder_name,  company_slogan, and inventory_space."
   ]
  },
  {
   "cell_type": "markdown",
   "metadata": {
    "id": "nPfZUASS4BMg"
   },
   "source": [
    "#### Define the methods\n",
    "\n",
    "Next, define the methods of the class:\n",
    "\n",
    "1. print_report method: A method to print out information about the company. \n",
    "\n",
    "  📌 The report should have this structure: \n",
    "\n",
    "  \"The company *name*, was founded in *year*. The founder of the company is *founder_name*. \n",
    "\n",
    "  Company slogan: *company_slogan*\n",
    "\n",
    "  Inventory space of the company: *inventory_space*\n",
    "\n",
    "\n",
    "2. update_inventory_space method: A method to update its inventory_space, and print a statement to describe the change.\n",
    "It should consider the parameter \"new_storage_space\".\n"
   ]
  },
  {
   "cell_type": "code",
   "execution_count": 32,
   "metadata": {
    "id": "fq1787jDa_BI"
   },
   "outputs": [],
   "source": [
    "#Define the \"Logistics\" class\n",
    "class Logistic:\n",
    "    #Initialize the object's attributes \n",
    "    def __init__(self, company_name, foundation_year, founder_name, company_slogan, inventory_space):\n",
    "        self.company_name = company_name\n",
    "        self.foundation_year = foundation_year\n",
    "        self.founder_name = founder_name\n",
    "        self.company_slogan = company_slogan\n",
    "        self.inventory_space = inventory_space\n",
    "        \n",
    "    #Define the print_report method\n",
    "    def print_report(self):\n",
    "        print(f\"\"\"\n",
    "        The company name is {self.company_name} and was founded in {self.foundation_year}.\n",
    "        The founder of the company is {self.founder_name} .\n",
    "        Company slogan: {self.company_slogan} .\n",
    "        Inventory space of the company: {self.inventory_space} .\"\"\")\n",
    "\n",
    "    #Define the update_inventory_space method\n",
    "    def update_inventory_space(self,new_storage_space):\n",
    "        self.inventory_space = new_storage_space\n",
    "        print(f\"Inventory space has been changed to {self.inventory_space} ! \")\n",
    "\n"
   ]
  },
  {
   "cell_type": "markdown",
   "metadata": {
    "id": "AJOdGm82DJsy"
   },
   "source": [
    "#### Create the object \n",
    "Now that we created our class and initialized its attributes and methods, we can create the object “logistic_company1” with the attributes: \n",
    "\n",
    "* Company_name “LogCom”\n",
    "\n",
    "* foundation_year “1990”\n",
    "\n",
    "* founder_name “Laura McCartey”\n",
    "\n",
    "* company_slogan “There is no place we cannot reach.” \n",
    "\n",
    "* inventory_space “2500”\n"
   ]
  },
  {
   "cell_type": "code",
   "execution_count": 33,
   "metadata": {
    "id": "jZpgNxEU25R9"
   },
   "outputs": [],
   "source": [
    "#Create the object \"logistic_company1\" with it's attributes\n",
    "logistic_company1 = Logistic(\"LogCom\", 1990, \"Laura McCartey\", \"There is no place we cannot reach\", 2500)"
   ]
  },
  {
   "cell_type": "markdown",
   "metadata": {
    "id": "g3Auswd8EMeE"
   },
   "source": [
    "\n",
    "#### Let’s check if the methods work.\n",
    "The logistics company plans to buy a new warehouse which will increase the inventory_space to 3000. \n",
    "\n",
    "📌 Call the update_inventory_space method to reflect this change in the system and then use the “print_report” method."
   ]
  },
  {
   "cell_type": "code",
   "execution_count": 34,
   "metadata": {
    "id": "Kcxcr1MS3TLB"
   },
   "outputs": [
    {
     "name": "stdout",
     "output_type": "stream",
     "text": [
      "Inventory space has been changed to 3000 ! \n",
      "\n",
      "        The company name is LogCom and was founded in 1990.\n",
      "        The founder of the company is Laura McCartey .\n",
      "        Company slogan: There is no place we cannot reach .\n",
      "        Inventory space of the company: 3000 .\n"
     ]
    }
   ],
   "source": [
    "#Update the inventory space\n",
    "logistic_company1.update_inventory_space(3000)\n",
    "#Call the print_report method for logistic_company1\n",
    "logistic_company1.print_report()"
   ]
  },
  {
   "cell_type": "markdown",
   "metadata": {
    "id": "CF-bba0xeH_G"
   },
   "source": [
    "### Trading\n",
    "The last company you need to digitalize is the trading one.\n",
    "\n",
    "You are expected to create a method to update the sales and expenses and calculate the revenue.\n",
    "\n",
    "As with the previous companies, you need to create a class.\n",
    "\n",
    "📌 Use the keyword \"class\" to create the class \"Trading\" \n",
    "\n",
    "📌 Use the \"__init__\" method to initialze the object's attributes: self, company_name, foundation_year, founder_name,  company_slogan, sales, expenses, and revenue.\n",
    "\n"
   ]
  },
  {
   "cell_type": "markdown",
   "metadata": {
    "id": "KSp_pa-08F69"
   },
   "source": [
    "#### Define the methods\n",
    "\n",
    "Next, define the methods of the class:\n",
    "\n",
    "1. print_report method: A method to print out information about the company. \n",
    "\n",
    "  📌 The report should have this structure: \n",
    "\n",
    "  \"The company *name*, was founded in *year*. The founder of the company is *founder_name*. \n",
    "\n",
    "  Company slogan: *company_slogan*\n",
    "\n",
    "  Total sales: *sales*\n",
    "\n",
    "  Total expenses: *expenses*\n",
    "\n",
    "  Total revenue: *revenue*\n",
    "\n",
    "\n",
    "2. update_sales_and_expenses method: A method to update the sales and expenses.\n",
    "It should consider the parameters \"new_sales\" and \"new_expenses\".\n",
    "\n",
    "3. calculate_revenue method: A method  which computes the difference between sales and expenses and prints out the revenue."
   ]
  },
  {
   "cell_type": "code",
   "execution_count": 35,
   "metadata": {
    "id": "SGQJ507gd-m1"
   },
   "outputs": [],
   "source": [
    "#Define the \"Trading\" class\n",
    "class Trading:\n",
    "    #Initialize the object's attributes \n",
    "    def __init__(self, company_name, foundation_year, founder_name, company_slogan, sales, expenses, revenue):\n",
    "        self.company_name = company_name\n",
    "        self.foundation_year = foundation_year\n",
    "        self.founder_name = founder_name\n",
    "        self.company_slogan = company_slogan\n",
    "        self.sales = sales\n",
    "        self.expenses = expenses\n",
    "        self.revenue = revenue\n",
    "\n",
    "    #Define the print_report method\n",
    "    def print_report(self):\n",
    "        print(f\"\"\" \n",
    "        The company name is {self.company_name} and was founded in {self.foundation_year} .\n",
    "        The founder of the company is {self.founder_name} . \n",
    "        Company slogan: {self.company_slogan} .\n",
    "        Total sales: {self.sales} .\n",
    "        Total expenses: {self.expenses} .\n",
    "        Total revenue: {self.revenue} .\"\"\")\n",
    "\n",
    "    #Define the update_sales_and_expenses method\n",
    "    def update_sales_and_expenses(self, new_sales, new_expenses):\n",
    "        self.sales += new_sales\n",
    "        self.expenses += new_expenses\n",
    "        print(\"Sales and expenses updated !\")\n",
    "\n",
    "    #Define the calculate_revenue method\n",
    "    def calculate_revenue(self):\n",
    "        self.revenue = self.sales - self.expenses\n",
    "        print(f\"The revenue of the company is: {self.revenue} .\")"
   ]
  },
  {
   "cell_type": "markdown",
   "metadata": {
    "id": "r94nvoLmIiON"
   },
   "source": [
    "#### Create the object \n",
    "Now that we created our class and initialized its attributes and methods, we can create the object “trading_company1” with the attributes: \n",
    "\n",
    "* Company_name “TraCom”\n",
    "\n",
    "* foundation_year “2005”\n",
    "\n",
    "* founder_name “Chong Wu”\n",
    "\n",
    "* company_slogan “We revolutionize trading.” \n",
    "\n",
    "* sales \"5000\"\n",
    "\n",
    "* expenses \"2000\"\n",
    "\n",
    "* revenue \"3000\""
   ]
  },
  {
   "cell_type": "code",
   "execution_count": 46,
   "metadata": {
    "id": "ZukV3vH2ePH8"
   },
   "outputs": [],
   "source": [
    "#Create the object \"trading_company1\" with it's attributes\n",
    "trading_company1 = Trading(\"Tracom\", 2005, \"Chong Wu\", \"We revolutionize trading \", 5000, 2000, 3000)"
   ]
  },
  {
   "cell_type": "markdown",
   "metadata": {
    "id": "lFoOC4JpYX0L"
   },
   "source": [
    "#### Let’s check if the methods work.\n",
    "Update the sales and expenses. The sales went up by 100 and the expenses increased by 50.\n",
    "\n",
    "📌 Use the update_sales_and_expenses method with this information."
   ]
  },
  {
   "cell_type": "code",
   "execution_count": 47,
   "metadata": {
    "id": "Cn0c-Nq27HDI"
   },
   "outputs": [
    {
     "name": "stdout",
     "output_type": "stream",
     "text": [
      "Sales and expenses updated !\n"
     ]
    }
   ],
   "source": [
    "#Update the sales and expenses\n",
    "trading_company1.update_sales_and_expenses(100, 50)"
   ]
  },
  {
   "cell_type": "markdown",
   "metadata": {
    "id": "PH28zb2WYrYl"
   },
   "source": [
    "After updating sale and expense informations, it is time to calculate the company revenue. \n",
    "\n",
    "📌 Use the calculate revenue method."
   ]
  },
  {
   "cell_type": "code",
   "execution_count": 48,
   "metadata": {
    "id": "E5Yb-de-8AiK"
   },
   "outputs": [
    {
     "name": "stdout",
     "output_type": "stream",
     "text": [
      "The revenue of the company is: 3050 .\n"
     ]
    }
   ],
   "source": [
    "#Calculate the revenue\n",
    "trading_company1.calculate_revenue()"
   ]
  },
  {
   "cell_type": "markdown",
   "metadata": {
    "id": "Z8QEH24AI0GA"
   },
   "source": [
    "Finally, let’s check our company’s information."
   ]
  },
  {
   "cell_type": "code",
   "execution_count": 49,
   "metadata": {
    "id": "jdEaNvGV_OD0"
   },
   "outputs": [
    {
     "name": "stdout",
     "output_type": "stream",
     "text": [
      " \n",
      "        The company name is Tracom and was founded in 2005 .\n",
      "        The founder of the company is Chong Wu . \n",
      "        Company slogan: We revolutionize trading  .\n",
      "        Total sales: 5100 .\n",
      "        Total expenses: 2050 .\n",
      "        Total revenue: 3050 .\n"
     ]
    }
   ],
   "source": [
    "#Call the print_report method for trading_company1\n",
    "trading_company1.print_report()"
   ]
  },
  {
   "cell_type": "code",
   "execution_count": null,
   "metadata": {},
   "outputs": [],
   "source": []
  }
 ],
 "metadata": {
  "colab": {
   "collapsed_sections": [],
   "name": "Guided_project_2.ipynb",
   "provenance": []
  },
  "kernelspec": {
   "display_name": "Python 3 (ipykernel)",
   "language": "python",
   "name": "python3"
  },
  "language_info": {
   "codemirror_mode": {
    "name": "ipython",
    "version": 3
   },
   "file_extension": ".py",
   "mimetype": "text/x-python",
   "name": "python",
   "nbconvert_exporter": "python",
   "pygments_lexer": "ipython3",
   "version": "3.10.9"
  }
 },
 "nbformat": 4,
 "nbformat_minor": 1
}
